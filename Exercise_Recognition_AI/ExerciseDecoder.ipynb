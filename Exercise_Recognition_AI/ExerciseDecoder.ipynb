{
 "cells": [
  {
   "cell_type": "markdown",
   "id": "d602e75d",
   "metadata": {},
   "source": [
    "# 0. Import Dependencies"
   ]
  },
  {
   "cell_type": "code",
   "execution_count": 1,
   "id": "2d97e5ec",
   "metadata": {},
   "outputs": [
    {
     "name": "stderr",
     "output_type": "stream",
     "text": [
      "2024-03-02 05:36:42.076637: E tensorflow/compiler/xla/stream_executor/cuda/cuda_dnn.cc:9342] Unable to register cuDNN factory: Attempting to register factory for plugin cuDNN when one has already been registered\n",
      "2024-03-02 05:36:42.076707: E tensorflow/compiler/xla/stream_executor/cuda/cuda_fft.cc:609] Unable to register cuFFT factory: Attempting to register factory for plugin cuFFT when one has already been registered\n",
      "2024-03-02 05:36:42.076747: E tensorflow/compiler/xla/stream_executor/cuda/cuda_blas.cc:1518] Unable to register cuBLAS factory: Attempting to register factory for plugin cuBLAS when one has already been registered\n",
      "2024-03-02 05:36:42.084397: I tensorflow/core/platform/cpu_feature_guard.cc:182] This TensorFlow binary is optimized to use available CPU instructions in performance-critical operations.\n",
      "To enable the following instructions: AVX2 FMA, in other operations, rebuild TensorFlow with the appropriate compiler flags.\n"
     ]
    }
   ],
   "source": [
    "import cv2\n",
    "import numpy as np\n",
    "import os\n",
    "from matplotlib import pyplot as plt\n",
    "import time\n",
    "import mediapipe as mp\n",
    "import tensorflow as tf\n",
    "import math\n",
    "\n",
    "from sklearn.model_selection import train_test_split\n",
    "from sklearn.metrics import multilabel_confusion_matrix, accuracy_score, classification_report\n",
    "from tensorflow.keras.utils import to_categorical\n",
    "\n",
    "import tensorflow as tf\n",
    "from tensorflow.keras import backend as K\n",
    "from tensorflow.keras.callbacks import TensorBoard, EarlyStopping, ReduceLROnPlateau, ModelCheckpoint\n",
    "\n",
    "from tensorflow.keras.models import Sequential, Model\n",
    "\n",
    "from tensorflow.keras.layers import (LSTM, Dense, Concatenate, Attention, Dropout, Softmax,\n",
    "                                     Input, Flatten, Activation, Bidirectional, Permute, multiply, \n",
    "                                     ConvLSTM2D, MaxPooling3D, TimeDistributed, Conv2D, MaxPooling2D)\n",
    "\n",
    "from scipy import stats\n",
    "\n",
    "# disable some of the tf/keras training warnings \n",
    "os.environ['TF_CPP_MIN_LOG_LEVEL'] = \"3\"\n",
    "tf.get_logger().setLevel(\"ERROR\")\n",
    "tf.autograph.set_verbosity(1)\n",
    "\n",
    "# suppress untraced functions warning\n",
    "import absl.logging\n",
    "absl.logging.set_verbosity(absl.logging.ERROR)"
   ]
  },
  {
   "cell_type": "markdown",
   "id": "55f470e2",
   "metadata": {},
   "source": [
    "# 1. Keypoints using MP Pose"
   ]
  },
  {
   "cell_type": "code",
   "execution_count": 2,
   "id": "20cde117",
   "metadata": {},
   "outputs": [],
   "source": [
    "# Pre-trained pose estimation model from Google Mediapipe\n",
    "mp_pose = mp.solutions.pose\n",
    "\n",
    "# Supported Mediapipe visualization tools\n",
    "mp_drawing = mp.solutions.drawing_utils"
   ]
  },
  {
   "cell_type": "code",
   "execution_count": 3,
   "id": "716e9f8e",
   "metadata": {},
   "outputs": [],
   "source": [
    "def mediapipe_detection(image, model):\n",
    "    \"\"\"\n",
    "    This function detects human pose estimation keypoints from webcam footage\n",
    "    \n",
    "    \"\"\"\n",
    "    image = cv2.cvtColor(image, cv2.COLOR_BGR2RGB) # COLOR CONVERSION BGR 2 RGB\n",
    "    image.flags.writeable = False                  # Image is no longer writeable\n",
    "    results = model.process(image)                 # Make prediction\n",
    "    image.flags.writeable = True                   # Image is now writeable \n",
    "    image = cv2.cvtColor(image, cv2.COLOR_RGB2BGR) # COLOR COVERSION RGB 2 BGR\n",
    "    return image, results"
   ]
  },
  {
   "cell_type": "code",
   "execution_count": 4,
   "id": "9bd7ba58",
   "metadata": {},
   "outputs": [],
   "source": [
    "def draw_landmarks(image, results):\n",
    "    \"\"\"\n",
    "    This function draws keypoints and landmarks detected by the human pose estimation model\n",
    "    \n",
    "    \"\"\"\n",
    "    mp_drawing.draw_landmarks(image, results.pose_landmarks, mp_pose.POSE_CONNECTIONS,\n",
    "                                mp_drawing.DrawingSpec(color=(245,117,66), thickness=2, circle_radius=2), \n",
    "                                mp_drawing.DrawingSpec(color=(245,66,230), thickness=2, circle_radius=2) \n",
    "                                 )"
   ]
  },
  {
   "cell_type": "code",
   "execution_count": 5,
   "id": "c0ebe952",
   "metadata": {},
   "outputs": [],
   "source": [
    "FPS = 30 # webcam video fram rate "
   ]
  },
  {
   "cell_type": "markdown",
   "id": "f9fb32f3",
   "metadata": {},
   "source": [
    "# 2. Extract Keypoints"
   ]
  },
  {
   "cell_type": "code",
   "execution_count": 6,
   "id": "6f4d1079",
   "metadata": {},
   "outputs": [],
   "source": [
    "def extract_keypoints(results):\n",
    "    \"\"\"\n",
    "    Processes and organizes the keypoints detected from the pose estimation model \n",
    "    to be used as inputs for the exercise decoder models\n",
    "    \n",
    "    \"\"\"\n",
    "    pose = np.array([[res.x, res.y, res.z, res.visibility] for res in results.pose_landmarks.landmark]).flatten() if results.pose_landmarks else np.zeros(33*4)\n",
    "    return pose"
   ]
  },
  {
   "cell_type": "markdown",
   "id": "03b907e8",
   "metadata": {},
   "source": [
    "# 3. Setup Folders for Collection"
   ]
  },
  {
   "cell_type": "code",
   "execution_count": 7,
   "id": "ddcaecfd",
   "metadata": {},
   "outputs": [
    {
     "name": "stdout",
     "output_type": "stream",
     "text": [
      "/media/volcano/SPSSD/DATA1/DUT/AI4LIFE/Exercise_Recognition_AI/../Data_Round1/Data_R1\n"
     ]
    }
   ],
   "source": [
    "# Path for exported data, numpy arrays\n",
    "DATA_PATH = os.path.join(os. getcwd(),'../Data_Round1/Data_R1') \n",
    "print(DATA_PATH)\n",
    "\n",
    "# make directory if it does not exist yet\n",
    "# if not os.path.exists(DATA_PATH):\n",
    "#     os.makedirs(DATA_PATH)\n",
    "\n",
    "# Actions/exercises that we try to detect\n",
    "actions = np.array(['chest fly machine', 'deadlift', 'hammer curl',\n",
    "                    'incline bench press', 'pull Up', 'tricep dips', \n",
    "                    'decline bench press', 'leg raises', 'shoulder press',\n",
    "                    'plank', 'leg extension', 'tricep Pushdown',\n",
    "                    'bench press', 'lateral raise', 'squat',\n",
    "                    'push-up', 'barbell biceps curl', 'russian twist',\n",
    "                    'romanian deadlift', 'hip thrust', 'lat pulldown',\n",
    "                    't bar row'\n",
    "                    ])\n",
    "num_classes = len(actions)\n",
    "\n",
    "# How many videos worth of data\n",
    "no_sequences = 50\n",
    "\n",
    "# Videos are going to be this many frames in length\n",
    "sequence_length = 60\n",
    "\n",
    "# Folder start\n",
    "# Change this to collect more data and not lose previously collected data\n",
    "start_folder = 0"
   ]
  },
  {
   "cell_type": "markdown",
   "id": "7622b573",
   "metadata": {},
   "source": [
    "# 4. Collect Keypoint Values for Training and Testing"
   ]
  },
  {
   "cell_type": "code",
   "execution_count": 8,
   "metadata": {},
   "outputs": [],
   "source": [
    "import json"
   ]
  },
  {
   "cell_type": "code",
   "execution_count": 9,
   "metadata": {},
   "outputs": [],
   "source": [
    "data_poses = {}\n",
    "min_d = 1000\n",
    "for action in actions:\n",
    "    data_poses[action] = {}\n",
    "    for filename in os.listdir(DATA_PATH+\"/\"+action+\"/pose\"):\n",
    "        if filename.endswith('.json'):\n",
    "            file_path = os.path.join(DATA_PATH+\"/\"+action+\"/pose\", filename)\n",
    "            key_file = filename.replace('.json', '').replace('results_', '')\n",
    "            # Open the JSON file and load its contents\n",
    "            with open(file_path, 'r') as json_file:\n",
    "                data = json.load(json_file)\n",
    "            if len(data['instance_info']) >= sequence_length:\n",
    "                # Do something with the data (for example, print it)\n",
    "                data_poses[action][key_file] = []\n",
    "                for frame in range(len(data['instance_info'])):\n",
    "                    data_poses[action][key_file].append(data['instance_info'][frame]['instances'][0]['keypoints'])\n",
    "                # if min_d > len(data['instance_info']):\n",
    "                #     min_d = len(data['instance_info'])\n",
    "                #     print(len(data['instance_info']))"
   ]
  },
  {
   "cell_type": "code",
   "execution_count": 10,
   "metadata": {},
   "outputs": [
    {
     "data": {
      "text/plain": [
       "381"
      ]
     },
     "execution_count": 10,
     "metadata": {},
     "output_type": "execute_result"
    }
   ],
   "source": [
    "len(data_poses[actions[2]]['hammer curl_2'])"
   ]
  },
  {
   "cell_type": "code",
   "execution_count": 11,
   "metadata": {},
   "outputs": [
    {
     "data": {
      "text/plain": [
       "['hammer curl_3',\n",
       " 'hammer curl_10',\n",
       " 'hammer curl_6',\n",
       " 'hammer curl_8',\n",
       " 'hammer curl_11',\n",
       " 'hammer curl_1',\n",
       " 'hammer curl_18',\n",
       " 'hammer curl_13',\n",
       " 'hammer curl_17',\n",
       " 'hammer curl_12',\n",
       " 'hammer curl_16',\n",
       " 'hammer curl_9',\n",
       " 'hammer curl_19',\n",
       " 'hammer curl_15',\n",
       " 'hammer curl_2',\n",
       " 'hammer curl_5',\n",
       " 'hammer curl_4',\n",
       " 'hammer curl_7']"
      ]
     },
     "execution_count": 11,
     "metadata": {},
     "output_type": "execute_result"
    }
   ],
   "source": [
    "list(data_poses[actions[2]].keys())"
   ]
  },
  {
   "cell_type": "markdown",
   "id": "d01ec993",
   "metadata": {},
   "source": [
    "# 5. Preprocess Data and Create Labels/Features"
   ]
  },
  {
   "cell_type": "code",
   "execution_count": 12,
   "id": "cad528c8",
   "metadata": {},
   "outputs": [],
   "source": [
    "label_map = {label:num for num, label in enumerate(actions)}"
   ]
  },
  {
   "cell_type": "code",
   "execution_count": 13,
   "metadata": {},
   "outputs": [
    {
     "data": {
      "text/plain": [
       "{'chest fly machine': 0,\n",
       " 'deadlift': 1,\n",
       " 'hammer curl': 2,\n",
       " 'incline bench press': 3,\n",
       " 'pull Up': 4,\n",
       " 'tricep dips': 5,\n",
       " 'decline bench press': 6,\n",
       " 'leg raises': 7,\n",
       " 'shoulder press': 8,\n",
       " 'plank': 9,\n",
       " 'leg extension': 10,\n",
       " 'tricep Pushdown': 11,\n",
       " 'bench press': 12,\n",
       " 'lateral raise': 13,\n",
       " 'squat': 14,\n",
       " 'push-up': 15,\n",
       " 'barbell biceps curl': 16,\n",
       " 'russian twist': 17,\n",
       " 'romanian deadlift': 18,\n",
       " 'hip thrust': 19,\n",
       " 'lat pulldown': 20,\n",
       " 't bar row': 21}"
      ]
     },
     "execution_count": 13,
     "metadata": {},
     "output_type": "execute_result"
    }
   ],
   "source": [
    "label_map"
   ]
  },
  {
   "cell_type": "code",
   "execution_count": 14,
   "metadata": {},
   "outputs": [
    {
     "data": {
      "text/plain": [
       "(132,)"
      ]
     },
     "execution_count": 14,
     "metadata": {},
     "output_type": "execute_result"
    }
   ],
   "source": [
    "np.load('/media/volcano/SPSSD/DATA1/DUT/AI4LIFE/Exercise_Recognition_AI/data/'+actions[0]+'/1/2.npy').shape"
   ]
  },
  {
   "cell_type": "code",
   "execution_count": 15,
   "id": "a0add3fb",
   "metadata": {},
   "outputs": [],
   "source": [
    "# Load and organize recorded training data\n",
    "sequences, labels = [], []\n",
    "for action in actions:\n",
    "    for sequence in list(data_poses[action].keys()):\n",
    "        mod_d = len(data_poses[action][sequence])//sequence_length\n",
    "        for m in range(mod_d):\n",
    "            window = []\n",
    "            for frame_num in range(m*sequence_length, (m+1)*sequence_length):         \n",
    "                # LSTM input data\n",
    "                res = np.asarray(data_poses[action][sequence][frame_num]).flatten()\n",
    "                window.append(res)  \n",
    "                \n",
    "            sequences.append(window)\n",
    "            labels.append(label_map[action])"
   ]
  },
  {
   "cell_type": "code",
   "execution_count": 16,
   "id": "ab459ce4",
   "metadata": {},
   "outputs": [
    {
     "name": "stdout",
     "output_type": "stream",
     "text": [
      "(2130, 60, 51) (2130, 22)\n"
     ]
    }
   ],
   "source": [
    "# Make sure first dimensions of arrays match\n",
    "X = np.array(sequences)\n",
    "y = to_categorical(labels).astype(int)\n",
    "print(X.shape, y.shape)"
   ]
  },
  {
   "cell_type": "code",
   "execution_count": 17,
   "id": "5ac49993",
   "metadata": {},
   "outputs": [
    {
     "name": "stdout",
     "output_type": "stream",
     "text": [
      "(1917, 60, 51) (1917, 22)\n"
     ]
    }
   ],
   "source": [
    "# Split into training, validation, and testing datasets\n",
    "X_train, X_test, y_train, y_test = train_test_split(X, y, test_size=0.10, random_state=1)\n",
    "print(X_train.shape, y_train.shape)\n",
    "X_train, X_val, y_train, y_val = train_test_split(X_train, y_train, test_size=15/90, random_state=2)"
   ]
  },
  {
   "cell_type": "markdown",
   "id": "e53ae03d",
   "metadata": {},
   "source": [
    "# 6. Build and Train Neural Networks"
   ]
  },
  {
   "cell_type": "code",
   "execution_count": 18,
   "id": "912f3153",
   "metadata": {},
   "outputs": [],
   "source": [
    "# Callbacks to be used during neural network training \n",
    "es_callback = EarlyStopping(monitor='val_loss', min_delta=5e-4, patience=10, verbose=0, mode='min')\n",
    "lr_callback = ReduceLROnPlateau(monitor='val_loss', factor=0.2, patience=5, min_lr=0.00001, verbose=0, mode='min')\n",
    "chkpt_callback = ModelCheckpoint(filepath=DATA_PATH, monitor='val_loss', verbose=0, save_best_only=True, \n",
    "                                 save_weights_only=False, mode='min', save_freq=1)\n",
    "\n",
    "# Optimizer\n",
    "# opt = tf.keras.optimizers.Adam(learning_rate=0.01)\n",
    "opt = tf.keras.optimizers.legacy.Adam(learning_rate=0.01)\n",
    "\n",
    "# some hyperparamters\n",
    "batch_size = 32\n",
    "max_epochs = 500"
   ]
  },
  {
   "cell_type": "markdown",
   "id": "c1ca0cad",
   "metadata": {},
   "source": [
    "## 6a. LSTM"
   ]
  },
  {
   "cell_type": "code",
   "execution_count": 19,
   "id": "730f987b",
   "metadata": {},
   "outputs": [],
   "source": [
    "# Set up Tensorboard logging and callbacks\n",
    "NAME = f\"ExerciseRecognition-LSTM-{int(time.time())}\"\n",
    "log_dir = os.path.join(os.getcwd(), 'logs', NAME,'')\n",
    "tb_callback = TensorBoard(log_dir=log_dir)\n",
    "\n",
    "callbacks = [tb_callback, es_callback, lr_callback, chkpt_callback]"
   ]
  },
  {
   "cell_type": "code",
   "execution_count": 20,
   "id": "ae7595c1",
   "metadata": {},
   "outputs": [
    {
     "name": "stderr",
     "output_type": "stream",
     "text": [
      "2024-03-02 05:37:02.525092: I tensorflow/compiler/xla/stream_executor/cuda/cuda_gpu_executor.cc:894] successful NUMA node read from SysFS had negative value (-1), but there must be at least one NUMA node, so returning NUMA node zero. See more at https://github.com/torvalds/linux/blob/v6.0/Documentation/ABI/testing/sysfs-bus-pci#L344-L355\n",
      "2024-03-02 05:37:02.533926: I tensorflow/compiler/xla/stream_executor/cuda/cuda_gpu_executor.cc:894] successful NUMA node read from SysFS had negative value (-1), but there must be at least one NUMA node, so returning NUMA node zero. See more at https://github.com/torvalds/linux/blob/v6.0/Documentation/ABI/testing/sysfs-bus-pci#L344-L355\n",
      "2024-03-02 05:37:02.534115: I tensorflow/compiler/xla/stream_executor/cuda/cuda_gpu_executor.cc:894] successful NUMA node read from SysFS had negative value (-1), but there must be at least one NUMA node, so returning NUMA node zero. See more at https://github.com/torvalds/linux/blob/v6.0/Documentation/ABI/testing/sysfs-bus-pci#L344-L355\n",
      "2024-03-02 05:37:02.536269: I tensorflow/compiler/xla/stream_executor/cuda/cuda_gpu_executor.cc:894] successful NUMA node read from SysFS had negative value (-1), but there must be at least one NUMA node, so returning NUMA node zero. See more at https://github.com/torvalds/linux/blob/v6.0/Documentation/ABI/testing/sysfs-bus-pci#L344-L355\n",
      "2024-03-02 05:37:02.536417: I tensorflow/compiler/xla/stream_executor/cuda/cuda_gpu_executor.cc:894] successful NUMA node read from SysFS had negative value (-1), but there must be at least one NUMA node, so returning NUMA node zero. See more at https://github.com/torvalds/linux/blob/v6.0/Documentation/ABI/testing/sysfs-bus-pci#L344-L355\n",
      "2024-03-02 05:37:02.536494: I tensorflow/compiler/xla/stream_executor/cuda/cuda_gpu_executor.cc:894] successful NUMA node read from SysFS had negative value (-1), but there must be at least one NUMA node, so returning NUMA node zero. See more at https://github.com/torvalds/linux/blob/v6.0/Documentation/ABI/testing/sysfs-bus-pci#L344-L355\n",
      "2024-03-02 05:37:02.605239: I tensorflow/compiler/xla/stream_executor/cuda/cuda_gpu_executor.cc:894] successful NUMA node read from SysFS had negative value (-1), but there must be at least one NUMA node, so returning NUMA node zero. See more at https://github.com/torvalds/linux/blob/v6.0/Documentation/ABI/testing/sysfs-bus-pci#L344-L355\n",
      "2024-03-02 05:37:02.605359: I tensorflow/compiler/xla/stream_executor/cuda/cuda_gpu_executor.cc:894] successful NUMA node read from SysFS had negative value (-1), but there must be at least one NUMA node, so returning NUMA node zero. See more at https://github.com/torvalds/linux/blob/v6.0/Documentation/ABI/testing/sysfs-bus-pci#L344-L355\n",
      "2024-03-02 05:37:02.605444: I tensorflow/compiler/xla/stream_executor/cuda/cuda_gpu_executor.cc:894] successful NUMA node read from SysFS had negative value (-1), but there must be at least one NUMA node, so returning NUMA node zero. See more at https://github.com/torvalds/linux/blob/v6.0/Documentation/ABI/testing/sysfs-bus-pci#L344-L355\n",
      "2024-03-02 05:37:02.605504: I tensorflow/core/common_runtime/gpu/gpu_device.cc:1886] Created device /job:localhost/replica:0/task:0/device:GPU:0 with 8126 MB memory:  -> device: 0, name: NVIDIA GeForce RTX 3060, pci bus id: 0000:01:00.0, compute capability: 8.6\n",
      "2024-03-02 05:37:02.786194: I tensorflow/tsl/platform/default/subprocess.cc:304] Start cannot spawn child process: No such file or directory\n"
     ]
    },
    {
     "name": "stdout",
     "output_type": "stream",
     "text": [
      "Model: \"sequential\"\n",
      "_________________________________________________________________\n",
      " Layer (type)                Output Shape              Param #   \n",
      "=================================================================\n",
      " lstm (LSTM)                 (None, 60, 128)           92160     \n",
      "                                                                 \n",
      " lstm_1 (LSTM)               (None, 60, 256)           394240    \n",
      "                                                                 \n",
      " lstm_2 (LSTM)               (None, 128)               197120    \n",
      "                                                                 \n",
      " dense (Dense)               (None, 128)               16512     \n",
      "                                                                 \n",
      " dense_1 (Dense)             (None, 64)                8256      \n",
      "                                                                 \n",
      " dense_2 (Dense)             (None, 22)                1430      \n",
      "                                                                 \n",
      "=================================================================\n",
      "Total params: 709718 (2.71 MB)\n",
      "Trainable params: 709718 (2.71 MB)\n",
      "Non-trainable params: 0 (0.00 Byte)\n",
      "_________________________________________________________________\n",
      "None\n"
     ]
    }
   ],
   "source": [
    "lstm = Sequential()\n",
    "lstm.add(LSTM(128, return_sequences=True, activation='relu', input_shape=(sequence_length, 51)))\n",
    "lstm.add(LSTM(256, return_sequences=True, activation='relu'))\n",
    "lstm.add(LSTM(128, return_sequences=False, activation='relu'))\n",
    "lstm.add(Dense(128, activation='relu'))\n",
    "lstm.add(Dense(64, activation='relu'))\n",
    "lstm.add(Dense(actions.shape[0], activation='softmax'))\n",
    "print(lstm.summary())"
   ]
  },
  {
   "cell_type": "code",
   "execution_count": 21,
   "id": "8a10e698",
   "metadata": {},
   "outputs": [],
   "source": [
    "# lstm.compile(optimizer=opt, loss='categorical_crossentropy', metrics=['categorical_accuracy'])\n",
    "# lstm.fit(X_train, y_train, batch_size=batch_size, epochs=max_epochs, validation_data=(X_val, y_val), callbacks=callbacks)"
   ]
  },
  {
   "cell_type": "markdown",
   "id": "8f58c4d8",
   "metadata": {},
   "source": [
    "## 6b. LSTM + Attention"
   ]
  },
  {
   "cell_type": "code",
   "execution_count": 22,
   "id": "c6e12666",
   "metadata": {},
   "outputs": [],
   "source": [
    "# Set up Tensorboard logging and callbacks\n",
    "NAME = f\"ExerciseRecognition-AttnLSTM-{int(time.time())}\"\n",
    "log_dir = os.path.join(os.getcwd(), 'logs', NAME,'')\n",
    "tb_callback = TensorBoard(log_dir=log_dir)\n",
    "\n",
    "callbacks = [tb_callback, es_callback, lr_callback, chkpt_callback]"
   ]
  },
  {
   "cell_type": "code",
   "execution_count": 23,
   "id": "07591dac",
   "metadata": {},
   "outputs": [],
   "source": [
    "def attention_block(inputs, time_steps):\n",
    "    \"\"\"\n",
    "    Attention layer for deep neural network\n",
    "    \n",
    "    \"\"\"\n",
    "    # Attention weights\n",
    "    a = Permute((2, 1))(inputs)\n",
    "    a = Dense(time_steps, activation='softmax')(a)\n",
    "    \n",
    "    # Attention vector\n",
    "    a_probs = Permute((2, 1), name='attention_vec')(a)\n",
    "    \n",
    "    # Luong's multiplicative score\n",
    "    output_attention_mul = multiply([inputs, a_probs], name='attention_mul') \n",
    "    \n",
    "    return output_attention_mul"
   ]
  },
  {
   "cell_type": "code",
   "execution_count": 24,
   "id": "c5c2e2e0",
   "metadata": {},
   "outputs": [
    {
     "name": "stdout",
     "output_type": "stream",
     "text": [
      "Model: \"model\"\n",
      "__________________________________________________________________________________________________\n",
      " Layer (type)                Output Shape                 Param #   Connected to                  \n",
      "==================================================================================================\n",
      " input_1 (InputLayer)        [(None, 60, 51)]             0         []                            \n",
      "                                                                                                  \n",
      " bidirectional (Bidirection  (None, 60, 512)              630784    ['input_1[0][0]']             \n",
      " al)                                                                                              \n",
      "                                                                                                  \n",
      " permute (Permute)           (None, 512, 60)              0         ['bidirectional[0][0]']       \n",
      "                                                                                                  \n",
      " dense_3 (Dense)             (None, 512, 60)              3660      ['permute[0][0]']             \n",
      "                                                                                                  \n",
      " attention_vec (Permute)     (None, 60, 512)              0         ['dense_3[0][0]']             \n",
      "                                                                                                  \n",
      " attention_mul (Multiply)    (None, 60, 512)              0         ['bidirectional[0][0]',       \n",
      "                                                                     'attention_vec[0][0]']       \n",
      "                                                                                                  \n",
      " flatten (Flatten)           (None, 30720)                0         ['attention_mul[0][0]']       \n",
      "                                                                                                  \n",
      " dense_4 (Dense)             (None, 512)                  1572915   ['flatten[0][0]']             \n",
      "                                                          2                                       \n",
      "                                                                                                  \n",
      " dropout (Dropout)           (None, 512)                  0         ['dense_4[0][0]']             \n",
      "                                                                                                  \n",
      " dense_5 (Dense)             (None, 22)                   11286     ['dropout[0][0]']             \n",
      "                                                                                                  \n",
      "==================================================================================================\n",
      "Total params: 16374882 (62.47 MB)\n",
      "Trainable params: 16374882 (62.47 MB)\n",
      "Non-trainable params: 0 (0.00 Byte)\n",
      "__________________________________________________________________________________________________\n",
      "None\n"
     ]
    }
   ],
   "source": [
    "HIDDEN_UNITS = 256\n",
    "\n",
    "# Input\n",
    "inputs = Input(shape=(sequence_length, 51))\n",
    "\n",
    "# Bi-LSTM\n",
    "lstm_out = Bidirectional(LSTM(HIDDEN_UNITS, return_sequences=True))(inputs)\n",
    "\n",
    "# Attention\n",
    "attention_mul = attention_block(lstm_out, sequence_length)\n",
    "attention_mul = Flatten()(attention_mul)\n",
    "\n",
    "# Fully Connected Layer\n",
    "x = Dense(2*HIDDEN_UNITS, activation='relu')(attention_mul)\n",
    "x = Dropout(0.5)(x)\n",
    "\n",
    "# Output\n",
    "x = Dense(actions.shape[0], activation='softmax')(x)\n",
    "\n",
    "# Bring it all together\n",
    "AttnLSTM = Model(inputs=[inputs], outputs=x)\n",
    "print(AttnLSTM.summary())"
   ]
  },
  {
   "cell_type": "code",
   "execution_count": 25,
   "id": "cf2f988d",
   "metadata": {},
   "outputs": [
    {
     "name": "stdout",
     "output_type": "stream",
     "text": [
      "Epoch 1/500\n"
     ]
    },
    {
     "name": "stderr",
     "output_type": "stream",
     "text": [
      "2024-03-02 05:37:08.034667: I tensorflow/compiler/xla/stream_executor/cuda/cuda_dnn.cc:442] Loaded cuDNN version 8700\n"
     ]
    },
    {
     "name": "stdout",
     "output_type": "stream",
     "text": [
      "50/50 [==============================] - 8s 35ms/step - loss: 2.1956 - categorical_accuracy: 0.3262 - val_loss: 1.4024 - val_categorical_accuracy: 0.5344 - lr: 0.0100\n",
      "Epoch 2/500\n",
      "50/50 [==============================] - 1s 13ms/step - loss: 1.4051 - categorical_accuracy: 0.5385 - val_loss: 1.1429 - val_categorical_accuracy: 0.6531 - lr: 0.0100\n",
      "Epoch 3/500\n",
      "50/50 [==============================] - 1s 13ms/step - loss: 1.2076 - categorical_accuracy: 0.5999 - val_loss: 1.0932 - val_categorical_accuracy: 0.6438 - lr: 0.0100\n",
      "Epoch 4/500\n",
      "50/50 [==============================] - 1s 12ms/step - loss: 0.9819 - categorical_accuracy: 0.6706 - val_loss: 0.8974 - val_categorical_accuracy: 0.7594 - lr: 0.0100\n",
      "Epoch 5/500\n",
      "50/50 [==============================] - 1s 13ms/step - loss: 0.9036 - categorical_accuracy: 0.6957 - val_loss: 0.6988 - val_categorical_accuracy: 0.7906 - lr: 0.0100\n",
      "Epoch 6/500\n",
      "50/50 [==============================] - 1s 13ms/step - loss: 0.7129 - categorical_accuracy: 0.7771 - val_loss: 0.5467 - val_categorical_accuracy: 0.8188 - lr: 0.0100\n",
      "Epoch 7/500\n",
      "50/50 [==============================] - 1s 13ms/step - loss: 0.6840 - categorical_accuracy: 0.7733 - val_loss: 0.5495 - val_categorical_accuracy: 0.8438 - lr: 0.0100\n",
      "Epoch 8/500\n",
      "50/50 [==============================] - 1s 13ms/step - loss: 0.6064 - categorical_accuracy: 0.8021 - val_loss: 0.7091 - val_categorical_accuracy: 0.7844 - lr: 0.0100\n",
      "Epoch 9/500\n",
      "50/50 [==============================] - 1s 14ms/step - loss: 0.5026 - categorical_accuracy: 0.8447 - val_loss: 0.7754 - val_categorical_accuracy: 0.8094 - lr: 0.0100\n",
      "Epoch 10/500\n",
      "50/50 [==============================] - 1s 13ms/step - loss: 0.4270 - categorical_accuracy: 0.8660 - val_loss: 0.6354 - val_categorical_accuracy: 0.8281 - lr: 0.0100\n",
      "Epoch 11/500\n",
      "50/50 [==============================] - 1s 13ms/step - loss: 0.4106 - categorical_accuracy: 0.8691 - val_loss: 0.4938 - val_categorical_accuracy: 0.8719 - lr: 0.0100\n",
      "Epoch 12/500\n",
      "50/50 [==============================] - 1s 13ms/step - loss: 0.3124 - categorical_accuracy: 0.8904 - val_loss: 0.4619 - val_categorical_accuracy: 0.8938 - lr: 0.0100\n",
      "Epoch 13/500\n",
      "50/50 [==============================] - 1s 13ms/step - loss: 0.3711 - categorical_accuracy: 0.8867 - val_loss: 0.5726 - val_categorical_accuracy: 0.8531 - lr: 0.0100\n",
      "Epoch 14/500\n",
      "50/50 [==============================] - 1s 13ms/step - loss: 0.3441 - categorical_accuracy: 0.8917 - val_loss: 0.6316 - val_categorical_accuracy: 0.8313 - lr: 0.0100\n",
      "Epoch 15/500\n",
      "50/50 [==============================] - 1s 13ms/step - loss: 0.2489 - categorical_accuracy: 0.9167 - val_loss: 0.5935 - val_categorical_accuracy: 0.8594 - lr: 0.0100\n",
      "Epoch 16/500\n",
      "50/50 [==============================] - 1s 14ms/step - loss: 0.3046 - categorical_accuracy: 0.9054 - val_loss: 0.6184 - val_categorical_accuracy: 0.8750 - lr: 0.0100\n",
      "Epoch 17/500\n",
      "50/50 [==============================] - 1s 13ms/step - loss: 0.3043 - categorical_accuracy: 0.9105 - val_loss: 0.5928 - val_categorical_accuracy: 0.8813 - lr: 0.0100\n",
      "Epoch 18/500\n",
      "50/50 [==============================] - 1s 13ms/step - loss: 0.1523 - categorical_accuracy: 0.9487 - val_loss: 0.4229 - val_categorical_accuracy: 0.9219 - lr: 0.0020\n",
      "Epoch 19/500\n",
      "50/50 [==============================] - 1s 13ms/step - loss: 0.0852 - categorical_accuracy: 0.9693 - val_loss: 0.3795 - val_categorical_accuracy: 0.9187 - lr: 0.0020\n",
      "Epoch 20/500\n",
      "50/50 [==============================] - 1s 13ms/step - loss: 0.0604 - categorical_accuracy: 0.9818 - val_loss: 0.4027 - val_categorical_accuracy: 0.9125 - lr: 0.0020\n",
      "Epoch 21/500\n",
      "50/50 [==============================] - 1s 13ms/step - loss: 0.0534 - categorical_accuracy: 0.9800 - val_loss: 0.4033 - val_categorical_accuracy: 0.9094 - lr: 0.0020\n",
      "Epoch 22/500\n",
      "50/50 [==============================] - 1s 13ms/step - loss: 0.0411 - categorical_accuracy: 0.9862 - val_loss: 0.3966 - val_categorical_accuracy: 0.9219 - lr: 0.0020\n",
      "Epoch 23/500\n",
      "50/50 [==============================] - 1s 13ms/step - loss: 0.0391 - categorical_accuracy: 0.9887 - val_loss: 0.3935 - val_categorical_accuracy: 0.9125 - lr: 0.0020\n",
      "Epoch 24/500\n",
      "50/50 [==============================] - 1s 13ms/step - loss: 0.0297 - categorical_accuracy: 0.9919 - val_loss: 0.4130 - val_categorical_accuracy: 0.9062 - lr: 0.0020\n",
      "Epoch 25/500\n",
      "50/50 [==============================] - 1s 12ms/step - loss: 0.0242 - categorical_accuracy: 0.9962 - val_loss: 0.4157 - val_categorical_accuracy: 0.9062 - lr: 4.0000e-04\n",
      "Epoch 26/500\n",
      "50/50 [==============================] - 1s 13ms/step - loss: 0.0254 - categorical_accuracy: 0.9931 - val_loss: 0.4182 - val_categorical_accuracy: 0.9062 - lr: 4.0000e-04\n",
      "Epoch 27/500\n",
      "50/50 [==============================] - 1s 14ms/step - loss: 0.0197 - categorical_accuracy: 0.9956 - val_loss: 0.4173 - val_categorical_accuracy: 0.9062 - lr: 4.0000e-04\n",
      "Epoch 28/500\n",
      "50/50 [==============================] - 1s 13ms/step - loss: 0.0246 - categorical_accuracy: 0.9944 - val_loss: 0.4200 - val_categorical_accuracy: 0.9094 - lr: 4.0000e-04\n",
      "Epoch 29/500\n",
      "50/50 [==============================] - 1s 13ms/step - loss: 0.0194 - categorical_accuracy: 0.9962 - val_loss: 0.4253 - val_categorical_accuracy: 0.9094 - lr: 4.0000e-04\n"
     ]
    },
    {
     "data": {
      "text/plain": [
       "<keras.src.callbacks.History at 0x7f835c59c550>"
      ]
     },
     "execution_count": 25,
     "metadata": {},
     "output_type": "execute_result"
    }
   ],
   "source": [
    "AttnLSTM.compile(optimizer=opt, loss='categorical_crossentropy', metrics=['categorical_accuracy'])\n",
    "AttnLSTM.fit(X_train, y_train, batch_size=batch_size, epochs=max_epochs, validation_data=(X_val, y_val), callbacks=callbacks)"
   ]
  },
  {
   "cell_type": "code",
   "execution_count": 37,
   "id": "b89f67cf",
   "metadata": {},
   "outputs": [],
   "source": [
    "# Model map\n",
    "models = {\n",
    "    # 'LSTM': lstm, \n",
    "    'LSTM_Attention_128HUs': AttnLSTM, \n",
    "}"
   ]
  },
  {
   "cell_type": "markdown",
   "id": "a928f612",
   "metadata": {},
   "source": [
    "# 7a. Save Weights"
   ]
  },
  {
   "cell_type": "code",
   "execution_count": 38,
   "id": "0a7647ad",
   "metadata": {},
   "outputs": [
    {
     "name": "stderr",
     "output_type": "stream",
     "text": [
      "/home/volcano/anaconda3/lib/python3.11/site-packages/keras/src/engine/training.py:3079: UserWarning: You are saving your model as an HDF5 file via `model.save()`. This file format is considered legacy. We recommend using instead the native Keras format, e.g. `model.save('my_model.keras')`.\n",
      "  saving_api.save_model(\n"
     ]
    }
   ],
   "source": [
    "for model_name, model in models.items():\n",
    "    save_dir = os.path.join(os.getcwd(), f\"{model_name}_f1.h5\")\n",
    "    model.save(save_dir)"
   ]
  },
  {
   "cell_type": "markdown",
   "id": "13fecf26",
   "metadata": {},
   "source": [
    "# 7b. Load Weights"
   ]
  },
  {
   "cell_type": "code",
   "execution_count": 28,
   "id": "ed0114a6",
   "metadata": {},
   "outputs": [],
   "source": [
    "# Run model rebuild before doing this\n",
    "for model_name, model in models.items():\n",
    "    load_dir = os.path.join(os.getcwd(), f\"{model_name}_f1.h5\")\n",
    "    model.load_weights(load_dir)"
   ]
  },
  {
   "cell_type": "markdown",
   "id": "1b7747c6",
   "metadata": {},
   "source": [
    "# 8. Make Predictions"
   ]
  },
  {
   "cell_type": "code",
   "execution_count": 29,
   "id": "2101a592",
   "metadata": {},
   "outputs": [],
   "source": [
    "for model in models.values():\n",
    "    res = model.predict(X_test, verbose=0)   "
   ]
  },
  {
   "cell_type": "markdown",
   "id": "6b36c98e",
   "metadata": {},
   "source": [
    "# 9. Evaluations using Confusion Matrix and Accuracy"
   ]
  },
  {
   "cell_type": "code",
   "execution_count": 30,
   "id": "ecf242d9",
   "metadata": {},
   "outputs": [],
   "source": [
    "eval_results = {}\n",
    "eval_results['confusion matrix'] = None\n",
    "eval_results['accuracy'] = None\n",
    "eval_results['precision'] = None\n",
    "eval_results['recall'] = None\n",
    "eval_results['f1 score'] = None\n",
    "\n",
    "confusion_matrices = {}\n",
    "classification_accuracies = {}   \n",
    "precisions = {}\n",
    "recalls = {}\n",
    "f1_scores = {} "
   ]
  },
  {
   "cell_type": "markdown",
   "id": "74d6778f",
   "metadata": {},
   "source": [
    "## 9a. Confusion Matrices"
   ]
  },
  {
   "cell_type": "code",
   "execution_count": 31,
   "id": "fccbb90f",
   "metadata": {},
   "outputs": [],
   "source": [
    "for model_name, model in models.items():\n",
    "    yhat = model.predict(X_test, verbose=0)\n",
    "    # Get list of classification predictions\n",
    "    ytrue = np.argmax(y_test, axis=1).tolist()\n",
    "    yhat = np.argmax(yhat, axis=1).tolist()\n",
    "    \n",
    "    # Confusion matrix\n",
    "    confusion_matrices[model_name] = multilabel_confusion_matrix(ytrue, yhat)\n",
    "    # print(f\"{model_name} confusion matrix: {os.linesep}{confusion_matrices[model_name]}\")\n",
    "\n",
    "# Collect results \n",
    "eval_results['confusion matrix'] = confusion_matrices"
   ]
  },
  {
   "cell_type": "code",
   "execution_count": 32,
   "metadata": {},
   "outputs": [],
   "source": [
    "corr_matrix_k = np.zeros((len(actions), len(actions)))\n",
    "corr_matrix = np.zeros((len(actions), len(actions)))\n",
    "for t in range(len(yhat)):\n",
    "    corr_matrix_k[ytrue[t]][yhat[t]] += 1\n",
    "for t in range(len(actions)):\n",
    "    for k in range(len(actions)):\n",
    "        corr_matrix[t][k] = corr_matrix_k[t][k]/np.sum(corr_matrix_k[t])"
   ]
  },
  {
   "cell_type": "code",
   "execution_count": 33,
   "metadata": {},
   "outputs": [],
   "source": [
    "import seaborn as sns\n",
    "import matplotlib.pyplot as plt"
   ]
  },
  {
   "cell_type": "code",
   "execution_count": 34,
   "metadata": {},
   "outputs": [
    {
     "data": {
      "text/plain": [
       "Text(0.5, 1.0, 'PIXEL SPACE Correlation graph')"
      ]
     },
     "execution_count": 34,
     "metadata": {},
     "output_type": "execute_result"
    },
    {
     "data": {
      "image/png": "[encoded data removed]",
      "text/plain": [
       "<Figure size 1500x1200 with 2 Axes>"
      ]
     },
     "metadata": {},
     "output_type": "display_data"
    }
   ],
   "source": [
    "plt.figure(figsize=(15, 12))\n",
    "ax = sns.heatmap(corr_matrix, annot=True, fmt=\".2f\",\n",
    "            xticklabels=actions, yticklabels=actions)\n",
    "ax.tick_params(top=True, bottom=False, labeltop=True, labelbottom=False)\n",
    "plt.xticks(rotation=90)\n",
    "plt.xlabel('Prediction')\n",
    "plt.ylabel('Ground Truth')\n",
    "plt.title('PIXEL SPACE Correlation graph')"
   ]
  },
  {
   "cell_type": "markdown",
   "id": "b76c6dc5",
   "metadata": {},
   "source": [
    "## 9b. Accuracy"
   ]
  },
  {
   "cell_type": "code",
   "execution_count": 35,
   "id": "e36146f5",
   "metadata": {},
   "outputs": [
    {
     "name": "stdout",
     "output_type": "stream",
     "text": [
      "LSTM_Attention_128HUs classification accuracy = 89.671%\n"
     ]
    }
   ],
   "source": [
    "for model_name, model in models.items():\n",
    "    yhat = model.predict(X_test, verbose=0)\n",
    "    \n",
    "    # Get list of classification predictions\n",
    "    ytrue = np.argmax(y_test, axis=1).tolist()\n",
    "    yhat = np.argmax(yhat, axis=1).tolist()\n",
    "    \n",
    "    # Model accuracy\n",
    "    classification_accuracies[model_name] = accuracy_score(ytrue, yhat)    \n",
    "    print(f\"{model_name} classification accuracy = {round(classification_accuracies[model_name]*100,3)}%\")\n",
    "\n",
    "# Collect results \n",
    "eval_results['accuracy'] = classification_accuracies"
   ]
  },
  {
   "cell_type": "markdown",
   "id": "33efa73a",
   "metadata": {},
   "source": [
    "## 9c. Precision, Recall, and F1 Score"
   ]
  },
  {
   "cell_type": "code",
   "execution_count": 36,
   "id": "35067c48",
   "metadata": {},
   "outputs": [
    {
     "name": "stdout",
     "output_type": "stream",
     "text": [
      "LSTM_Attention_128HUs weighted average precision = 0.905\n",
      "LSTM_Attention_128HUs weighted average recall = 0.897\n",
      "LSTM_Attention_128HUs weighted average f1-score = 0.897\n",
      "\n"
     ]
    }
   ],
   "source": [
    "for model_name, model in models.items():\n",
    "    yhat = model.predict(X_test, verbose=0)\n",
    "    \n",
    "    # Get list of classification predictions\n",
    "    ytrue = np.argmax(y_test, axis=1).tolist()\n",
    "    yhat = np.argmax(yhat, axis=1).tolist()\n",
    "    \n",
    "    # Precision, recall, and f1 score\n",
    "    report = classification_report(ytrue, yhat, target_names=actions, output_dict=True)\n",
    "    \n",
    "    precisions[model_name] = report['weighted avg']['precision']\n",
    "    recalls[model_name] = report['weighted avg']['recall']\n",
    "    f1_scores[model_name] = report['weighted avg']['f1-score'] \n",
    "   \n",
    "    print(f\"{model_name} weighted average precision = {round(precisions[model_name],3)}\")\n",
    "    print(f\"{model_name} weighted average recall = {round(recalls[model_name],3)}\")\n",
    "    print(f\"{model_name} weighted average f1-score = {round(f1_scores[model_name],3)}\\n\")\n",
    "\n",
    "# Collect results \n",
    "eval_results['precision'] = precisions\n",
    "eval_results['recall'] = recalls\n",
    "eval_results['f1 score'] = f1_scores"
   ]
  }
 ],
 "metadata": {
  "kernelspec": {
   "display_name": "r1_ai4life",
   "language": "python",
   "name": "r1_ai4life"
  },
  "language_info": {
   "codemirror_mode": {
    "name": "ipython",
    "version": 3
   },
   "file_extension": ".py",
   "mimetype": "text/x-python",
   "name": "python",
   "nbconvert_exporter": "python",
   "pygments_lexer": "ipython3",
   "version": "3.11.4"
  },
  "vscode": {
   "interpreter": {
    "hash": "80aa1d3f3a8cfb37a38c47373cc49a39149184c5fa770d709389b1b8782c1d85"
   }
  }
 },
 "nbformat": 4,
 "nbformat_minor": 5
}
